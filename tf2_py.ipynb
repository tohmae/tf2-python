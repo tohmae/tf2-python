{
 "cells": [
  {
   "cell_type": "code",
   "execution_count": 1,
   "id": "26b95445-27cd-44ee-9ed8-413f19b15f80",
   "metadata": {},
   "outputs": [],
   "source": [
    "import numpy as np\n",
    "import open3d as o3d\n",
    "from scipy.spatial.transform import Rotation as R"
   ]
  },
  {
   "cell_type": "code",
   "execution_count": 2,
   "id": "78a182e7-8257-420b-8eff-40f1db99fa91",
   "metadata": {},
   "outputs": [],
   "source": [
    "class Position():\n",
    "    def __init__(self, array=[0.0,0.0,0.0]):\n",
    "        self.x = array[0]\n",
    "        self.y = array[1]\n",
    "        self.z = array[2]\n",
    "\n",
    "\n",
    "class Orientation():\n",
    "    def __init__(self, quat=[0.0,0.0,0.0,1.0]):\n",
    "        self.x = quat[0]\n",
    "        self.y = quat[1]\n",
    "        self.z = quat[2]\n",
    "        self.w = quat[3]\n",
    "        \n",
    "class Pose:\n",
    "    def __init__(self, position=Position(), orientation=Orientation()):\n",
    "        self.position = position\n",
    "        self.orientation = orientation\n",
    "\n",
    "class Translation:\n",
    "    def __init__(self, array=[0.0,0.0,0.0]):\n",
    "        self.x = array[0]\n",
    "        self.y = array[1]\n",
    "        self.z = array[2]\n",
    "\n",
    "class Quaternion:\n",
    "    def __init__(self, quat=[0.0,0.0,0.0,1.0]):\n",
    "        self.x = quat[0]\n",
    "        self.y = quat[1]\n",
    "        self.z = quat[2]\n",
    "        self.w = quat[3]\n",
    "    \n",
    "class Transform:\n",
    "    def __init__(self, translation=Translation(), quaternion=Quaternion()):\n",
    "        self.translation = translation\n",
    "        self.quaternion = quaternion\n",
    "\n",
    "class Tf2_py:    \n",
    "    @staticmethod\n",
    "    def fromMsg(msg):\n",
    "        T = np.eye(4)\n",
    "        if msg.__class__.__name__ == 'Pose':\n",
    "            t = [msg.position.x, msg.position.y, msg.position.z]\n",
    "            quat = [msg.orientation.x, msg.orientation.y, msg.orientation.z, msg.orientation.w]\n",
    "\n",
    "        elif msg.__class__.__name__ == 'Transform':\n",
    "            t = [msg.translation.x, msg.translation.y, msg.translation.z]\n",
    "            quat = [msg.quaternion.x, msg.quaternion.y, msg.quaternion.z, msg.quaternion.w]\n",
    "\n",
    "        else:\n",
    "            print(\"error\")\n",
    "        r = R.from_quat(quat).as_matrix()\n",
    "        T[:3,:3] = r\n",
    "        T[:3,3] = t\n",
    "        \n",
    "        return T\n",
    "        \n",
    "    @staticmethod\n",
    "    def toPose(T):\n",
    "        t = T[:3,3]\n",
    "        r = T[:3,:3]\n",
    "        quat = R.from_matrix(r).as_quat()\n",
    "        position = Position(t)\n",
    "        orientation = Orientation(quat)\n",
    "        pose = Pose(position,orientation)\n",
    "        \n",
    "        return pose\n",
    "\n",
    "    @staticmethod\n",
    "    def toTransform(T):\n",
    "        t = T[:3,3]\n",
    "        r = T[:3,:3]\n",
    "        quat = R.from_matrix(r).as_quat()\n",
    "        translation = Translation(t)\n",
    "        quaternion = Quaternion(quat)\n",
    "        transform = Transform(translation, quaternion)\n",
    "        \n",
    "        return transform"
   ]
  },
  {
   "cell_type": "code",
   "execution_count": 3,
   "id": "1e5b8aee-821f-4112-9cc9-c9b773d5e669",
   "metadata": {},
   "outputs": [],
   "source": [
    "R1 = R.from_euler('zxy', [np.pi/3, 0,0])\n",
    "R2 = R.from_euler('zxy', [np.pi/6, 0,0])"
   ]
  },
  {
   "cell_type": "code",
   "execution_count": 4,
   "id": "a793187c-47c9-405c-bcc8-d1f8126f8295",
   "metadata": {},
   "outputs": [
    {
     "data": {
      "text/plain": [
       "array([0.       , 0.       , 0.5      , 0.8660254])"
      ]
     },
     "execution_count": 4,
     "metadata": {},
     "output_type": "execute_result"
    }
   ],
   "source": [
    "R1.as_quat()"
   ]
  },
  {
   "cell_type": "code",
   "execution_count": 5,
   "id": "96aaa8c7-a473-4ae1-ae8a-fede6de2478d",
   "metadata": {},
   "outputs": [],
   "source": [
    "translate1 = Translation([1,0,0])\n",
    "quaternion1 = Quaternion(R1.as_quat())\n",
    "transform1 = Transform(translate1, quaternion1)"
   ]
  },
  {
   "cell_type": "code",
   "execution_count": 6,
   "id": "f41a2617-003b-4f83-a05e-b586f3825be1",
   "metadata": {},
   "outputs": [],
   "source": [
    "translate2 = Translation([3,0,0])\n",
    "quaternion2 = Quaternion(R2.as_quat())\n",
    "transform2 = Transform(translate2, quaternion2)"
   ]
  },
  {
   "cell_type": "code",
   "execution_count": 7,
   "id": "4e03bac2-ebc8-4bb3-a69f-793c87c2a64c",
   "metadata": {},
   "outputs": [],
   "source": [
    "T1 = Tf2_py.fromMsg(transform1)\n",
    "T2 = Tf2_py.fromMsg(transform2)"
   ]
  },
  {
   "cell_type": "code",
   "execution_count": 8,
   "id": "db084843-fc80-4f66-9512-1f371c358f34",
   "metadata": {},
   "outputs": [],
   "source": [
    "transform = Tf2_py.toTransform(T1 @ T2)"
   ]
  },
  {
   "cell_type": "code",
   "execution_count": 9,
   "id": "5d56ffa1-193b-4e8b-91b8-27ee55e9eec1",
   "metadata": {},
   "outputs": [
    {
     "data": {
      "text/plain": [
       "({'x': 2.500000000000001, 'y': 2.598076211353316, 'z': 0.0},\n",
       " {'x': 0.0, 'y': 0.0, 'z': 0.7071067811865474, 'w': 0.7071067811865477})"
      ]
     },
     "execution_count": 9,
     "metadata": {},
     "output_type": "execute_result"
    }
   ],
   "source": [
    "vars(transform.translation), vars(transform.quaternion)"
   ]
  },
  {
   "cell_type": "code",
   "execution_count": 10,
   "id": "516fe896-d5fe-4c5b-ad63-bfa3182d4c58",
   "metadata": {},
   "outputs": [],
   "source": [
    "transform = Tf2_py.toTransform(T2 @ T1)"
   ]
  },
  {
   "cell_type": "code",
   "execution_count": 11,
   "id": "44807271-1e09-49f8-8bcf-eb4207e63c1d",
   "metadata": {},
   "outputs": [
    {
     "data": {
      "text/plain": [
       "({'x': 3.866025403784439, 'y': 0.49999999999999994, 'z': 0.0},\n",
       " {'x': 0.0, 'y': 0.0, 'z': 0.7071067811865474, 'w': 0.7071067811865477})"
      ]
     },
     "execution_count": 11,
     "metadata": {},
     "output_type": "execute_result"
    }
   ],
   "source": [
    "vars(transform.translation), vars(transform.quaternion)"
   ]
  },
  {
   "cell_type": "code",
   "execution_count": null,
   "id": "f3476dd5-2da6-4efe-8255-764417b74831",
   "metadata": {},
   "outputs": [],
   "source": []
  },
  {
   "cell_type": "code",
   "execution_count": 12,
   "id": "6bc7abd8-1a3a-40b0-92d4-eee49f2927c9",
   "metadata": {},
   "outputs": [],
   "source": [
    "position1 = Position([1,0,0])\n",
    "orientation1 = Orientation(R1.as_quat())\n",
    "pose1 = Pose(position1, orientation1)"
   ]
  },
  {
   "cell_type": "code",
   "execution_count": 13,
   "id": "4f851045-2913-4d88-9df8-6900ce942cfe",
   "metadata": {},
   "outputs": [],
   "source": [
    "translate2 = Translation([3,0,0])\n",
    "quaternion2 = Quaternion(R2.as_quat())\n",
    "transform2 = Transform(translate2, quaternion2)"
   ]
  },
  {
   "cell_type": "code",
   "execution_count": 14,
   "id": "07cc5ec1-c9b8-4075-aff6-eaf614680c08",
   "metadata": {},
   "outputs": [],
   "source": [
    "T1 = Tf2_py.fromMsg(pose1)\n",
    "T2 = Tf2_py.fromMsg(transform2)"
   ]
  },
  {
   "cell_type": "code",
   "execution_count": 15,
   "id": "0aec06c7-ca27-4696-b8da-cb1b0121f625",
   "metadata": {},
   "outputs": [],
   "source": [
    "pose = Tf2_py.toPose(T1 @ T2)"
   ]
  },
  {
   "cell_type": "code",
   "execution_count": 16,
   "id": "8aff857e-b18a-4548-90ac-5f1deb935732",
   "metadata": {},
   "outputs": [
    {
     "data": {
      "text/plain": [
       "({'x': 2.500000000000001, 'y': 2.598076211353316, 'z': 0.0},\n",
       " {'x': 0.0, 'y': 0.0, 'z': 0.7071067811865474, 'w': 0.7071067811865477})"
      ]
     },
     "execution_count": 16,
     "metadata": {},
     "output_type": "execute_result"
    }
   ],
   "source": [
    "vars(pose.position), vars(pose.orientation)"
   ]
  },
  {
   "cell_type": "code",
   "execution_count": null,
   "id": "0d65e7b7-17ae-47ab-9bd8-263eb34de7b4",
   "metadata": {},
   "outputs": [],
   "source": []
  },
  {
   "cell_type": "code",
   "execution_count": 17,
   "id": "451e5a30-2b12-4f5b-a5d0-e42a85a211c9",
   "metadata": {},
   "outputs": [
    {
     "name": "stdout",
     "output_type": "stream",
     "text": [
      "[0.         0.         0.70710678 0.70710678]\n",
      "[0.        0.        0.5       0.8660254]\n",
      "[0.         0.         0.25881905 0.96592583]\n"
     ]
    }
   ],
   "source": [
    "print((R.from_euler('zxy', [np.pi/2, 0,0])).as_quat())\n",
    "print((R.from_euler('zxy', [np.pi/3, 0,0])).as_quat())\n",
    "print((R.from_euler('zxy', [np.pi/6, 0,0])).as_quat())"
   ]
  },
  {
   "cell_type": "code",
   "execution_count": null,
   "id": "cebe8815-43bd-4944-9bc4-243f7b548169",
   "metadata": {},
   "outputs": [],
   "source": []
  },
  {
   "cell_type": "code",
   "execution_count": null,
   "id": "d83b403a-bf28-4c10-896c-109b2f5571e8",
   "metadata": {},
   "outputs": [],
   "source": []
  }
 ],
 "metadata": {
  "kernelspec": {
   "display_name": "Python 3 (ipykernel)",
   "language": "python",
   "name": "python3"
  },
  "language_info": {
   "codemirror_mode": {
    "name": "ipython",
    "version": 3
   },
   "file_extension": ".py",
   "mimetype": "text/x-python",
   "name": "python",
   "nbconvert_exporter": "python",
   "pygments_lexer": "ipython3",
   "version": "3.10.12"
  }
 },
 "nbformat": 4,
 "nbformat_minor": 5
}
